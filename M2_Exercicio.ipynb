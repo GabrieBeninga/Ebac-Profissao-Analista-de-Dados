{
  "nbformat": 4,
  "nbformat_minor": 0,
  "metadata": {
    "colab": {
      "provenance": [],
      "toc_visible": true
    },
    "kernelspec": {
      "name": "python3",
      "display_name": "Python 3"
    }
  },
  "cells": [
    {
      "cell_type": "markdown",
      "metadata": {
        "id": "KJqp9AANOCtf"
      },
      "source": [
        "<img src=\"https://raw.githubusercontent.com/andre-marcos-perez/ebac-course-utils/main/media/logo/newebac_logo_black_half.png\" alt=\"ebac-logo\">\n",
        "\n",
        "---\n",
        "\n",
        "# **Módulo** | Python: Estruturas de Dados\n",
        "Caderno de **Exercícios**<br>\n",
        "Professor [André Perez](https://www.linkedin.com/in/andremarcosperez/)\n",
        "\n",
        "---"
      ]
    },
    {
      "cell_type": "markdown",
      "metadata": {
        "id": "d9jDtUbDOE1-"
      },
      "source": [
        "# **Tópicos**\n",
        "\n",
        "<ol type=\"1\">\n",
        "  <li>Listas;</li>\n",
        "  <li>Conjuntos;</li>\n",
        "  <li>Dicionários.</li>\n",
        "</ol>"
      ]
    },
    {
      "cell_type": "markdown",
      "metadata": {
        "id": "SmoHgt-lwkpD"
      },
      "source": [
        "---"
      ]
    },
    {
      "cell_type": "markdown",
      "metadata": {
        "id": "GABI6OW8OfQ2"
      },
      "source": [
        "# **Exercícios**"
      ]
    },
    {
      "cell_type": "markdown",
      "metadata": {
        "id": "muD1vxozykSC"
      },
      "source": [
        "## 1\\. Listas"
      ]
    },
    {
      "cell_type": "markdown",
      "metadata": {
        "id": "ahrFfCuBxJKs"
      },
      "source": [
        "Criei uma lista chamada `filmes` com o nome dos 10 primeiros filmes mais bem avaliados no site no [IMDB](https://www.imdb.com/chart/top/). Imprima o resultado."
      ]
    },
    {
      "cell_type": "code",
      "metadata": {
        "id": "OgL6Hv3bzOHI",
        "colab": {
          "base_uri": "https://localhost:8080/"
        },
        "outputId": "4668eddc-63af-4a8b-c803-01f6f952713a"
      },
      "source": [
        "filmes = [\n",
        "    '1.Um Sonho de Liberdade',\n",
        "    '2.O Poderoso Chefão',\n",
        "    '3.Batman: O Cavaleiro das Trevas',\n",
        "    '4.O Poderoso Chefão II',\n",
        "    '5.12 Homens e uma Sentença',\n",
        "    '6.A Lista de Schindler',\n",
        "    '7.O Senhor dos Anéis: O Retorno do Rei',\n",
        "    '8.Pulp Fiction - Tempo de Violência',\n",
        "    '9.O Senhor dos Anéis: A Sociedade do Anel',\n",
        "    '10.Três Homens em Conflito']\n",
        "\n",
        "print(filmes)"
      ],
      "execution_count": 1,
      "outputs": [
        {
          "output_type": "stream",
          "name": "stdout",
          "text": [
            "['1.Um Sonho de Liberdade', '2.O Poderoso Chefão', '3.Batman: O Cavaleiro das Trevas', '4.O Poderoso Chefão II', '5.12 Homens e uma Sentença', '6.A Lista de Schindler', '7.O Senhor dos Anéis: O Retorno do Rei', '8.Pulp Fiction - Tempo de Violência', '9.O Senhor dos Anéis: A Sociedade do Anel', '10.Três Homens em Conflito']\n"
          ]
        }
      ]
    },
    {
      "cell_type": "markdown",
      "metadata": {
        "id": "KI9zQRT2xa7m"
      },
      "source": [
        "Simule a movimentação do *ranking*. Utilize os métodos `insert` e `pop` para trocar a posição do primeiro e do segundo filme da lista. Imprima o resultado.\n",
        "\n"
      ]
    },
    {
      "cell_type": "code",
      "metadata": {
        "id": "zX3mA3_GzrXH",
        "colab": {
          "base_uri": "https://localhost:8080/"
        },
        "outputId": "3f24d5cf-021e-408b-e01d-0c23d0448459"
      },
      "source": [
        "filmes.insert(0,'1.Donnie Darko'),\n",
        "filmes.insert(1,'2.Interstellar')\n",
        "\n",
        "\n",
        "\n",
        "print(filmes)"
      ],
      "execution_count": 2,
      "outputs": [
        {
          "output_type": "stream",
          "name": "stdout",
          "text": [
            "['1.Donnie Darko', '2.Interstellar', '1.Um Sonho de Liberdade', '2.O Poderoso Chefão', '3.Batman: O Cavaleiro das Trevas', '4.O Poderoso Chefão II', '5.12 Homens e uma Sentença', '6.A Lista de Schindler', '7.O Senhor dos Anéis: O Retorno do Rei', '8.Pulp Fiction - Tempo de Violência', '9.O Senhor dos Anéis: A Sociedade do Anel', '10.Três Homens em Conflito']\n"
          ]
        }
      ]
    },
    {
      "cell_type": "markdown",
      "metadata": {
        "id": "zMN1Q3jdwoJm"
      },
      "source": [
        "---"
      ]
    },
    {
      "cell_type": "code",
      "source": [
        "filme_umsliberdade = filmes.pop(2),\n",
        "filme_pdchefao = filmes.pop(2)\n",
        "\n",
        "print(filmes)"
      ],
      "metadata": {
        "colab": {
          "base_uri": "https://localhost:8080/"
        },
        "id": "gpUiDclitWj6",
        "outputId": "a2b1e579-8efb-4f4f-f0e6-048fbc14747a"
      },
      "execution_count": 3,
      "outputs": [
        {
          "output_type": "stream",
          "name": "stdout",
          "text": [
            "['1.Donnie Darko', '2.Interstellar', '3.Batman: O Cavaleiro das Trevas', '4.O Poderoso Chefão II', '5.12 Homens e uma Sentença', '6.A Lista de Schindler', '7.O Senhor dos Anéis: O Retorno do Rei', '8.Pulp Fiction - Tempo de Violência', '9.O Senhor dos Anéis: A Sociedade do Anel', '10.Três Homens em Conflito']\n"
          ]
        }
      ]
    },
    {
      "cell_type": "markdown",
      "metadata": {
        "id": "lxa5L6uF0ZJE"
      },
      "source": [
        "## 2\\. Conjuntos"
      ]
    },
    {
      "cell_type": "markdown",
      "metadata": {
        "id": "9JahS2Kj0d5u"
      },
      "source": [
        "Aconteceu um erro no seu *ranking*. Simule a duplicação dos três últimos filmes da lista. Imprima o resultado."
      ]
    },
    {
      "cell_type": "code",
      "metadata": {
        "id": "BnjnLBNC6PGe",
        "colab": {
          "base_uri": "https://localhost:8080/"
        },
        "outputId": "38837840-7606-469a-caee-2ad5273360e3"
      },
      "source": [
        "filmes.append('8.Pulp Fiction - Tempo de Violência'),\n",
        "filmes.append('9.O Senhor dos Anéis: A Sociedade do Anel'),\n",
        "filmes.append('10.Três Homens em Conflito')\n",
        "\n",
        "print(filmes)\n"
      ],
      "execution_count": 4,
      "outputs": [
        {
          "output_type": "stream",
          "name": "stdout",
          "text": [
            "['1.Donnie Darko', '2.Interstellar', '3.Batman: O Cavaleiro das Trevas', '4.O Poderoso Chefão II', '5.12 Homens e uma Sentença', '6.A Lista de Schindler', '7.O Senhor dos Anéis: O Retorno do Rei', '8.Pulp Fiction - Tempo de Violência', '9.O Senhor dos Anéis: A Sociedade do Anel', '10.Três Homens em Conflito', '8.Pulp Fiction - Tempo de Violência', '9.O Senhor dos Anéis: A Sociedade do Anel', '10.Três Homens em Conflito']\n"
          ]
        }
      ]
    },
    {
      "cell_type": "markdown",
      "metadata": {
        "id": "suxTfCJB6ZiX"
      },
      "source": [
        "Utiliza a conversão `set` e `list` para remover os valores duplicados. Imprima o resultado."
      ]
    },
    {
      "cell_type": "code",
      "metadata": {
        "id": "ZvUGN-0n6joM",
        "colab": {
          "base_uri": "https://localhost:8080/"
        },
        "outputId": "a4da8192-c1a1-4e3f-8c22-0f06c6cae5ae"
      },
      "source": [
        "filmes = list(set(filmes))\n",
        "\n",
        "print(filmes)"
      ],
      "execution_count": 11,
      "outputs": [
        {
          "output_type": "stream",
          "name": "stdout",
          "text": [
            "['10.Três Homens em Conflito', '8.Pulp Fiction - Tempo de Violência', '1.Donnie Darko', '7.O Senhor dos Anéis: O Retorno do Rei', '4.O Poderoso Chefão II', '3.Batman: O Cavaleiro das Trevas', '2.Interstellar', '6.A Lista de Schindler', '9.O Senhor dos Anéis: A Sociedade do Anel', '5.12 Homens e uma Sentença']\n"
          ]
        }
      ]
    },
    {
      "cell_type": "markdown",
      "metadata": {
        "id": "ShkK35eQ6pAM"
      },
      "source": [
        "---"
      ]
    },
    {
      "cell_type": "markdown",
      "metadata": {
        "id": "EL_FzmxL6rTv"
      },
      "source": [
        "## 3\\. Dicionários"
      ]
    },
    {
      "cell_type": "markdown",
      "metadata": {
        "id": "i8l0gFqRCpfT"
      },
      "source": [
        "Repita os exercícios da parte 1 (listas). Os elementos da lista `filmes` devem ser dicionários no seguinte formato: `{'nome': <nome-do-filme>, 'ano': <ano do filme>, 'sinopse': <sinopse do filme>}`."
      ]
    },
    {
      "cell_type": "code",
      "metadata": {
        "id": "tu6MSFwGDnHv",
        "colab": {
          "base_uri": "https://localhost:8080/"
        },
        "outputId": "19fa50a4-7b79-4a6e-b61c-62412c77017d"
      },
      "source": [
        "filmes = {\n",
        "    'top 1':{\n",
        "        'nome':'1.Um Sonho de Liberdade',\n",
        "        'Ano': 1994 ,\n",
        "        'sinopse': 'Dois homens presos se reúnem ao longo de vários anos, encontrando consolo e eventual redenção através de atos de decência comum.'\n",
        "    },\n",
        "    'top 2':{\n",
        "        'nome':'2.O Poderoso Chefão',\n",
        "        'Ano': 1972 ,\n",
        "        'sinopse': 'O patriarca idoso de uma dinastia do crime organizado transfere o controle de seu império clandestino para seu filho relutante.'\n",
        "    },\n",
        "    'top 3':{\n",
        "        'nome':'3.Batman: O Cavaleiro das Trevas',\n",
        "        'Ano': 2008 ,\n",
        "        'sinopse': 'Quando a ameaça conhecida como O Coringa surge de seu passado, causa estragos e caos nas pessoas de Gotham. O Cavaleiro das Trevas deve aceitar um dos maiores testes para combater a injustiça.'\n",
        "    },\n",
        "    'top 4':{\n",
        "        'nome':'4.O Poderoso Chefão II',\n",
        "        'Ano': 1974 ,\n",
        "        'sinopse': 'Em 1950, Michael Corleone, agora à frente da família, tenta expandir o negócio do crime a Las Vegas, Los Angeles e Cuba. Paralelamente, é revelada a história de Vito Corleone, e de como saiu da Sicília e chegou a Nova Iorque.'\n",
        "    },\n",
        "    'top 5':{\n",
        "        'nome':'5.12 Homens e uma Sentença',\n",
        "        'Ano': 1957 ,\n",
        "        'sinopse': 'O julgamento de um assassinato em Nova Iorque é frustrado por um único membro, cujo ceticismo força o júri a considerar cuidadosamente as evidências antes de dar o veredito.'\n",
        "    },\n",
        "    'top 6':{\n",
        "        'nome':'6.A Lista de Schindler',\n",
        "        'Ano': 1993 ,\n",
        "        'sinopse': 'Na Polônia ocupada pelos alemães durante a Segunda Guerra Mundial, o industrial Oskar Schindler começa a ser preocupar com seus trabalhadores judeus depois de testemunhar sua perseguição pelos nazistas.'\n",
        "    },\n",
        "    'top 7':{\n",
        "        'nome':'7.O Senhor dos Anéis: O Retorno do Rei',\n",
        "        'Ano': 2003 ,\n",
        "        'sinopse': 'Gandalf e Aragorn lideram o Mundo dos Homens contra o exército de Sauron para desviar o olhar de Frodo e Sam quando eles se aproximam á Montanha da Perdição com o Um Anel.'\n",
        "    },\n",
        "    'top 8':{\n",
        "        'nome':'8.Pulp Fiction - Tempo de Violência',\n",
        "        'Ano': 1994 ,\n",
        "        'sinopse': 'As vidas de dois assassinos da máfia, um boxeador, um gângster e sua esposa, e um par de bandidos se entrelaçam em quatro histórias de violência e redenção.'\n",
        "    },\n",
        "    'top 9':{\n",
        "        'nome':'9.O Senhor dos Anéis: A Sociedade do Anel',\n",
        "        'Ano': 2001 ,\n",
        "        'sinopse': 'Um manso hobbit do Condado e oito companheiros partem em uma jornada para destruir o poderoso Um Anel e salvar a Terra-média das Trevas.'\n",
        "    },\n",
        "    'top 10':{\n",
        "        'nome':'10.Três Homens em Conflito',\n",
        "        'Ano': 1966 ,\n",
        "        'sinopse': 'Um impostor se junta com dois homens para encontrar fortuna num remoto cemitério.'\n",
        "\n",
        "\n",
        "   }\n",
        "\n",
        "\n",
        "}\n",
        "\n",
        "print(filmes)\n",
        ""
      ],
      "execution_count": 65,
      "outputs": [
        {
          "output_type": "stream",
          "name": "stdout",
          "text": [
            "{'top 1': {'nome': '1.Um Sonho de Liberdade', 'Ano': 1994, 'sinopse': 'Dois homens presos se reúnem ao longo de vários anos, encontrando consolo e eventual redenção através de atos de decência comum.'}, 'top 2': {'nome': '2.O Poderoso Chefão', 'Ano': 1972, 'sinopse': 'O patriarca idoso de uma dinastia do crime organizado transfere o controle de seu império clandestino para seu filho relutante.'}, 'top 3': {'nome': '3.Batman: O Cavaleiro das Trevas', 'Ano': 2008, 'sinopse': 'Quando a ameaça conhecida como O Coringa surge de seu passado, causa estragos e caos nas pessoas de Gotham. O Cavaleiro das Trevas deve aceitar um dos maiores testes para combater a injustiça.'}, 'top 4': {'nome': '4.O Poderoso Chefão II', 'Ano': 1974, 'sinopse': 'Em 1950, Michael Corleone, agora à frente da família, tenta expandir o negócio do crime a Las Vegas, Los Angeles e Cuba. Paralelamente, é revelada a história de Vito Corleone, e de como saiu da Sicília e chegou a Nova Iorque.'}, 'top 5': {'nome': '5.12 Homens e uma Sentença', 'Ano': 1957, 'sinopse': 'O julgamento de um assassinato em Nova Iorque é frustrado por um único membro, cujo ceticismo força o júri a considerar cuidadosamente as evidências antes de dar o veredito.'}, 'top 6': {'nome': '6.A Lista de Schindler', 'Ano': 1993, 'sinopse': 'Na Polônia ocupada pelos alemães durante a Segunda Guerra Mundial, o industrial Oskar Schindler começa a ser preocupar com seus trabalhadores judeus depois de testemunhar sua perseguição pelos nazistas.'}, 'top 7': {'nome': '7.O Senhor dos Anéis: O Retorno do Rei', 'Ano': 2003, 'sinopse': 'Gandalf e Aragorn lideram o Mundo dos Homens contra o exército de Sauron para desviar o olhar de Frodo e Sam quando eles se aproximam á Montanha da Perdição com o Um Anel.'}, 'top 8': {'nome': '8.Pulp Fiction - Tempo de Violência', 'Ano': 1994, 'sinopse': 'As vidas de dois assassinos da máfia, um boxeador, um gângster e sua esposa, e um par de bandidos se entrelaçam em quatro histórias de violência e redenção.'}, 'top 9': {'nome': '9.O Senhor dos Anéis: A Sociedade do Anel', 'Ano': 2001, 'sinopse': 'Um manso hobbit do Condado e oito companheiros partem em uma jornada para destruir o poderoso Um Anel e salvar a Terra-média das Trevas.'}, 'top 10': {'nome': '10.Três Homens em Conflito', 'Ano': 1966, 'sinopse': 'Um impostor se junta com dois homens para encontrar fortuna num remoto cemitério.'}}\n"
          ]
        }
      ]
    }
  ]
}