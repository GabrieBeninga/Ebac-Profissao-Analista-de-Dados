{
  "nbformat": 4,
  "nbformat_minor": 0,
  "metadata": {
    "colab": {
      "provenance": []
    },
    "kernelspec": {
      "name": "python3",
      "display_name": "Python 3"
    }
  },
  "cells": [
    {
      "cell_type": "markdown",
      "metadata": {
        "id": "KJqp9AANOCtf"
      },
      "source": [
        "<img src=\"https://raw.githubusercontent.com/andre-marcos-perez/ebac-course-utils/main/media/logo/newebac_logo_black_half.png\" alt=\"ebac-logo\">\n",
        "\n",
        "---\n",
        "\n",
        "# **Módulo** | Análise de Dados: Data Wrangling II\n",
        "Caderno de **Exercícios**<br>\n",
        "Professor [André Perez](https://www.linkedin.com/in/andremarcosperez/)\n",
        "\n",
        "---"
      ]
    },
    {
      "cell_type": "markdown",
      "metadata": {
        "id": "d9jDtUbDOE1-"
      },
      "source": [
        "# **Tópicos**\n",
        "\n",
        "<ol type=\"1\">\n",
        "  <li>Agregação e Ordenação;</li>\n",
        "  <li>Combinação;</li>\n",
        "  <li>Técnicas Avançadas.</li>\n",
        "</ol>"
      ]
    },
    {
      "cell_type": "markdown",
      "metadata": {
        "id": "SmoHgt-lwkpD"
      },
      "source": [
        "---"
      ]
    },
    {
      "cell_type": "markdown",
      "metadata": {
        "id": "GABI6OW8OfQ2"
      },
      "source": [
        "# **Exercícios**"
      ]
    },
    {
      "cell_type": "markdown",
      "metadata": {
        "id": "45DbYPgFhuR7"
      },
      "source": [
        "Neste exercícios, vamos trabalhar com dados geográficos, demográficos e econômicos do Brasil. Vamos manipular e combinar dados de duas frentes distintas para poder responder perguntas de negócios."
      ]
    },
    {
      "cell_type": "markdown",
      "metadata": {
        "id": "GWgNoJN8DHyY"
      },
      "source": [
        "## 1\\. Data Wrangling"
      ]
    },
    {
      "cell_type": "markdown",
      "metadata": {
        "id": "E30KnCdKRdYl"
      },
      "source": [
        "### **1.1. Estados**"
      ]
    },
    {
      "cell_type": "markdown",
      "metadata": {
        "id": "w2q1apyNYHbu"
      },
      "source": [
        "O arquivo `estados-bruto.xml` contém informações sobre estados (nome, sigla e região). **Carregue-o na máquina virtual do Google Colab**. Um arquivo do tipo XML é similar a um arquivo do tipo HTML, exemplo do estado do Acre:"
      ]
    },
    {
      "cell_type": "markdown",
      "metadata": {
        "id": "GzjE2aEyYW5A"
      },
      "source": [
        "```xml\n",
        "<ESTADO>\n",
        "  <ID>1</ID>\n",
        "  <NOME>ACRE</NOME>\n",
        "  <IDCAPITAL>16</IDCAPITAL>\n",
        "  <SIGLA>AC</SIGLA>\n",
        "  <REGIAO>NORTE</REGIAO>\n",
        "</ESTADO>\n",
        "```"
      ]
    },
    {
      "cell_type": "markdown",
      "metadata": {
        "id": "7Mtk7Dd9UHqg"
      },
      "source": [
        "Utilize o pacote Python `beautifulsoup4` para extrair os dados do arquivo `estados-bruto.xml` providenciado. Salve os dados extraidos no arquivo `estados-limpo.csv` separado por `;`. Exemplo das três primeiras linhas mais o cabeçalho:\n",
        "\n",
        "```\n",
        "estado;sigla;regiao\n",
        "ACRE;AC;NORTE\n",
        "ALAGOAS;AL;NORDESTE\n",
        "AMAPA;AP;NORTE\n",
        "```\n",
        "\n",
        "**Dica**: Utilize o parser de xml chamado `lxml` do `beautifulsoup4`."
      ]
    },
    {
      "cell_type": "code",
      "metadata": {
        "id": "kz0ZyYI0Sg6P"
      },
      "source": [
        "# ler o arquivo estados-bruto.xml, utilize o xml parser chamado lxml\n",
        "\n",
        "from bs4 import BeautifulSoup\n",
        "\n",
        "NOME_ARQUIVO_FONTE1 = 'estados-bruto.xml'\n",
        "\n",
        "with open(NOME_ARQUIVO_FONTE1, 'r') as f:\n",
        "    conteudo = f.read()\n",
        "\n",
        "fonte = BeautifulSoup(conteudo, 'lxml-xml')"
      ],
      "execution_count": 9,
      "outputs": []
    },
    {
      "cell_type": "code",
      "metadata": {
        "id": "rB0u2NjEXhDo"
      },
      "source": [
        "# visualize os resultados\n",
        "\n",
        "fonte"
      ],
      "execution_count": null,
      "outputs": []
    },
    {
      "cell_type": "code",
      "metadata": {
        "id": "6mos3LTVXrzV"
      },
      "source": [
        "# manipule os dados\n",
        "\n",
        "import csv\n",
        "\n",
        "NOME_ARQUIVO_DESTINO1 = 'estados-limpo.csv'\n",
        "\n",
        "# Encontre todas as tags 'ESTADO' no documento\n",
        "estados = fonte.find_all('ESTADO')\n",
        "\n",
        "# Abra o arquivo de destino para escrita\n",
        "with open(NOME_ARQUIVO_DESTINO1, 'w', newline='') as f:\n",
        "    writer = csv.writer(f, delimiter=';')\n",
        "\n",
        "    # Escreva o cabeçalho do CSV\n",
        "    writer.writerow(['estado', 'sigla', 'regiao'])\n",
        "\n",
        "    # Para cada estado, extraia o nome, a sigla e a região\n",
        "    for estado in estados:\n",
        "        nome = estado.find('NOME').text\n",
        "        sigla = estado.find('SIGLA').text\n",
        "        regiao = estado.find('REGIAO').text\n",
        "\n",
        "        # Escreva os dados no arquivo CSV\n",
        "        writer.writerow([nome, sigla, regiao])\n"
      ],
      "execution_count": 10,
      "outputs": []
    },
    {
      "cell_type": "code",
      "metadata": {
        "id": "9yCma_LASxFg"
      },
      "source": [
        "# escrever o conteudo extraido no arquivo estados-limpo.csv separados por ;\n",
        "\n",
        "NOME_ARQUIVO_DESTINO1 = 'estados-limpo.csv'\n",
        "\n",
        "#Já realizado em cima"
      ],
      "execution_count": 11,
      "outputs": []
    },
    {
      "cell_type": "markdown",
      "metadata": {
        "id": "Fq0xqYYSYq92"
      },
      "source": [
        "### **1.2. Cidades**"
      ]
    },
    {
      "cell_type": "markdown",
      "metadata": {
        "id": "eWRbjhOQYq93"
      },
      "source": [
        "O arquivo `cidades-bruto.csv` contém informações demográficas e socioeconomicas das cidades do Brasil. **Carregue-o na máquina virtual do Google Colab**. Utilize o pacote Python `pandas` para extrair os dados do arquivo `cidades-bruto.xml` providenciado. Seguindo as seguintes especificações:"
      ]
    },
    {
      "cell_type": "markdown",
      "metadata": {
        "id": "76zW8sMsbhEu"
      },
      "source": [
        "1. Apenas dados do censo de 2010;\n",
        "1. Apenas as colunas UF, Nome, PIB, Pop_est_2009 e PIB_percapita."
      ]
    },
    {
      "cell_type": "markdown",
      "metadata": {
        "id": "auiIxlw-blp8"
      },
      "source": [
        "Salve os dados extraidos no arquivo `cidades-limpo.csv` separado por `;`. Exemplo das três primeiras linhas mais o cabeçalho:\n",
        "\n",
        "```\n",
        "estado;cidade;populacao;pib;pib_percapita\n",
        "BAHIA;TREMEDAL;18433;57883.9921875;3140.23999023\n",
        "RIO GRANDE DO SUL;TURUÇU;4000;45723875;11430.96972656\n",
        "ESPIRITO SANTO;VITÓRIA;320156;19782628;61790.58984375\n",
        "```"
      ]
    },
    {
      "cell_type": "code",
      "metadata": {
        "id": "nBmWOkvzYq94"
      },
      "source": [
        "# ler o arquivo cidades-bruto.csv\n",
        "\n",
        "import pandas as pd\n",
        "\n",
        "NOME_ARQUIVO_FONTE2 = 'cidades-bruto.csv'\n",
        "\n",
        "# Ler o arquivo CSV\n",
        "fonte2 = pd.read_csv(NOME_ARQUIVO_FONTE2)\n"
      ],
      "execution_count": 15,
      "outputs": []
    },
    {
      "cell_type": "code",
      "metadata": {
        "id": "2NKpI4h9Yq95"
      },
      "source": [
        "# visualize os resultados\n",
        "import pandas as pd\n",
        "\n",
        "print(fonte2.head())"
      ],
      "execution_count": null,
      "outputs": []
    },
    {
      "cell_type": "code",
      "metadata": {
        "id": "BRVLwHxHYq96"
      },
      "source": [
        "# manipule os dados\n",
        "\n",
        "# Selecione apenas os dados do censo de 2010\n",
        "fonte2 = fonte2[fonte2['Censo'] == 2010]\n",
        "\n",
        "# Selecione apenas as colunas necessárias\n",
        "fonte2 = fonte2[['UF', 'nome', 'PIB', 'Pop_est_2009', 'PIB_percapita']]\n",
        "\n",
        "# Renomeie as colunas para corresponder ao formato desejado\n",
        "fonte2.columns = ['estado', 'cidade', 'pib', 'populacao', 'pib_percapita']"
      ],
      "execution_count": 21,
      "outputs": []
    },
    {
      "cell_type": "code",
      "metadata": {
        "id": "GcAWBfwhYq96"
      },
      "source": [
        "# escrever o conteudo extraido no arquivo cidades-limpo.csv separados por ;\n",
        "\n",
        "NOME_ARQUIVO_DESTINO2 = 'cidades-limpo.csv'\n",
        "\n",
        "# Salve o DataFrame em um arquivo CSV\n",
        "fonte2.to_csv('cidades-limpo.csv', sep=';', index=False)"
      ],
      "execution_count": 22,
      "outputs": []
    },
    {
      "cell_type": "markdown",
      "metadata": {
        "id": "EBzoHVD8b_c7"
      },
      "source": [
        "### **1.3. Brasil**"
      ]
    },
    {
      "cell_type": "markdown",
      "metadata": {
        "id": "Ft6l5bDwb_c7"
      },
      "source": [
        "Utilize o pacote Python `pandas` para combinar os dados do arquivo `estados-limpo.csv` com os dados do arquivo `cidades-limpo.csv` em um único dataframe. Escolha a coluna e o método de combinação de tal forma que **não haja perda de dados** no processo (não produzirá valores nulos `NaN`). Salve os dados do dataframe no arquivo `brasil.csv`"
      ]
    },
    {
      "cell_type": "code",
      "metadata": {
        "id": "Vz3J7G4-dBXa"
      },
      "source": [
        "# solução do exercício 1.3\n",
        "\n",
        "import pandas as pd\n",
        "\n",
        "# Ler os arquivos CSV\n",
        "estados = pd.read_csv('estados-limpo.csv', sep=';')\n",
        "cidades = pd.read_csv('cidades-limpo.csv', sep=';')\n",
        "\n",
        "# Combinar os dataframes\n",
        "brasil = pd.merge(cidades, estados, on='estado', how='outer')\n",
        "\n",
        "# Salvar o dataframe combinado em um arquivo CSV\n",
        "brasil.to_csv('brasil.csv', sep=';', index=False)\n"
      ],
      "execution_count": 25,
      "outputs": []
    },
    {
      "cell_type": "markdown",
      "source": [],
      "metadata": {
        "id": "BKCCnlg7qLmX"
      }
    },
    {
      "cell_type": "markdown",
      "metadata": {
        "id": "waxn4B2UDHyl"
      },
      "source": [
        "---"
      ]
    },
    {
      "cell_type": "markdown",
      "metadata": {
        "id": "finLQoyyGVmk"
      },
      "source": [
        "## 2\\. Data Analytics"
      ]
    },
    {
      "cell_type": "markdown",
      "metadata": {
        "id": "Ab0GW19Ed1ig"
      },
      "source": [
        "### **2.1. DataFrame**"
      ]
    },
    {
      "cell_type": "markdown",
      "metadata": {
        "id": "l8jJYjeBdijt"
      },
      "source": [
        "Utilize o pacote Python `pandas` para carregar o arquivo `brasil.csv` no dataframe `brasil_df`."
      ]
    },
    {
      "cell_type": "code",
      "metadata": {
        "id": "8kFQLlqud4QL",
        "colab": {
          "base_uri": "https://localhost:8080/"
        },
        "outputId": "c90bc487-e289-46d8-8a0c-a07d02f3273b"
      },
      "source": [
        "# solução do exercício 2.1\n",
        "\n",
        "import pandas as pd\n",
        "\n",
        "# Ler o arquivo CSV\n",
        "brasil_df = pd.read_csv('brasil.csv', sep=';')\n",
        "\n",
        "# Exibir as primeiras linhas do DataFrame\n",
        "print(brasil_df.head())\n"
      ],
      "execution_count": 27,
      "outputs": [
        {
          "output_type": "stream",
          "name": "stdout",
          "text": [
            "  estado                 cidade           pib  populacao  pib_percapita sigla  \\\n",
            "0  BAHIA               Tremedal  57883.992188    18433.0    3140.239990    BA   \n",
            "1  BAHIA               Maetinga  23558.447266     7884.0    2988.129883    BA   \n",
            "2  BAHIA               Ibirapuã  74997.406250     7893.0    9501.759766    BA   \n",
            "3  BAHIA  Governador Mangabeira  92903.820312    20668.0    4495.060059    BA   \n",
            "4  BAHIA                Ibititá  62366.886719    19410.0    3213.129883    BA   \n",
            "\n",
            "     regiao  \n",
            "0  NORDESTE  \n",
            "1  NORDESTE  \n",
            "2  NORDESTE  \n",
            "3  NORDESTE  \n",
            "4  NORDESTE  \n"
          ]
        }
      ]
    },
    {
      "cell_type": "markdown",
      "metadata": {
        "id": "ZFWvK8FXHuex"
      },
      "source": [
        "### **2.2. Analise**"
      ]
    },
    {
      "cell_type": "markdown",
      "metadata": {
        "id": "EGyz0R1dd62D"
      },
      "source": [
        "Utilize o dataframe `brasil_df` para responder as seguintes perguntas de negócio:"
      ]
    },
    {
      "cell_type": "markdown",
      "metadata": {
        "id": "lGnYVp7IeFBD"
      },
      "source": [
        " - Quais são as 10 cidades mais populosas do Brasil?"
      ]
    },
    {
      "cell_type": "code",
      "metadata": {
        "id": "KQKcD-VkeQYf",
        "colab": {
          "base_uri": "https://localhost:8080/"
        },
        "outputId": "803b4eb3-3a4c-4ee0-f750-263a793ead3b"
      },
      "source": [
        "# código para responder a pergunta\n",
        "\n",
        "dez_cidades_mais_populosas = brasil_df.sort_values('populacao', ascending=False).head(10)\n",
        "print(dez_cidades_mais_populosas[['cidade', 'populacao']])"
      ],
      "execution_count": 32,
      "outputs": [
        {
          "output_type": "stream",
          "name": "stdout",
          "text": [
            "              cidade   populacao\n",
            "3271       São Paulo  11037593.0\n",
            "4504  Rio de Janeiro   6186710.0\n",
            "44          Salvador   2998056.0\n",
            "5554        Brasília   2606885.0\n",
            "4221       Fortaleza   2505552.0\n",
            "1735  Belo Horizonte   2452617.0\n",
            "4849        Curitiba   1851215.0\n",
            "3720          Manaus   1738641.0\n",
            "2435          Recife   1561659.0\n",
            "2624           Belém   1437600.0\n"
          ]
        }
      ]
    },
    {
      "cell_type": "markdown",
      "metadata": {
        "id": "l93St6uleWTp"
      },
      "source": [
        " - Quais são as 5 cidades com a menor PIB per capita da região nordeste?"
      ]
    },
    {
      "cell_type": "code",
      "metadata": {
        "id": "DS5akh2zeWTq",
        "colab": {
          "base_uri": "https://localhost:8080/"
        },
        "outputId": "d3b440f5-b99b-4151-f552-d5d143f5bd26"
      },
      "source": [
        "# código para responder a pergunta\n",
        "\n",
        "cinco_cidades_menor_pib_percapita = brasil_df.query(\"regiao == 'NORDESTE'\").sort_values('pib_percapita').head(5)\n",
        "print(cinco_cidades_menor_pib_percapita[['cidade', 'pib_percapita']])"
      ],
      "execution_count": 33,
      "outputs": [
        {
          "output_type": "stream",
          "name": "stdout",
          "text": [
            "            cidade  pib_percapita\n",
            "362       Caetanos    2440.570068\n",
            "369   Novo Triunfo    2497.060059\n",
            "260         Matina    2551.989990\n",
            "5152        Traipu    2649.479980\n",
            "211       Mansidão    2665.449951\n"
          ]
        }
      ]
    },
    {
      "cell_type": "markdown",
      "metadata": {
        "id": "GqwffgUmedmb"
      },
      "source": [
        " - Quais são as 15 cidades com maior PIB do do estado de São Paulo?"
      ]
    },
    {
      "cell_type": "code",
      "metadata": {
        "id": "tFKEn1gLedmc",
        "colab": {
          "base_uri": "https://localhost:8080/"
        },
        "outputId": "58ec1a37-5ba9-4e71-cbac-2b86ba4cfda8"
      },
      "source": [
        "# código para responder a pergunta\n",
        "\n",
        "quinze_cidades_maior_pib = brasil_df.query(\"estado == 'SÃO PAULO'\").sort_values('pib', ascending=False).head(15)\n",
        "print(quinze_cidades_maior_pib[['cidade', 'pib']])\n"
      ],
      "execution_count": 35,
      "outputs": [
        {
          "output_type": "stream",
          "name": "stdout",
          "text": [
            "                     cidade          pib\n",
            "3271              São Paulo  389317152.0\n",
            "3223              Guarulhos   32473828.0\n",
            "3340               Campinas   31654720.0\n",
            "3106                 Osasco   31616452.0\n",
            "2810  São Bernardo do Campo   28935768.0\n",
            "3344                Barueri   26908070.0\n",
            "2768                 Santos   22546134.0\n",
            "2994    São José dos Campos   22018042.0\n",
            "3014                Jundiaí   16585137.0\n",
            "2816            Santo André   14709603.0\n",
            "2754         Ribeirão Preto   14688064.0\n",
            "3152               Sorocaba   14182597.0\n",
            "3038                Diadema    9969819.0\n",
            "3334             Piracicaba    9601211.0\n",
            "2999     São Caetano do Sul    8920202.0\n"
          ]
        }
      ]
    },
    {
      "cell_type": "markdown",
      "metadata": {
        "id": "Wg_la1wOewoB"
      },
      "source": [
        " - Qual é o PIB do estado de Santa Catarina?"
      ]
    },
    {
      "cell_type": "code",
      "metadata": {
        "id": "LwGqow5_ewoB",
        "colab": {
          "base_uri": "https://localhost:8080/"
        },
        "outputId": "32fe01ec-2042-4e10-d3e6-de5814aa2818"
      },
      "source": [
        "# código para responder a pergunta\n",
        "\n",
        "pib_sc = brasil_df.query(\"estado == 'SANTA CATARINA'\")['pib'].sum()\n",
        "print(f\"PIB de Santa Catarina: {pib_sc}\")"
      ],
      "execution_count": 37,
      "outputs": [
        {
          "output_type": "stream",
          "name": "stdout",
          "text": [
            "PIB de Santa Catarina: 129806256.75195317\n"
          ]
        }
      ]
    },
    {
      "cell_type": "markdown",
      "metadata": {
        "id": "Yaw2gDukfApr"
      },
      "source": [
        " - Qual é o população da região sul?"
      ]
    },
    {
      "cell_type": "code",
      "metadata": {
        "id": "enEkNjFQfAps",
        "colab": {
          "base_uri": "https://localhost:8080/"
        },
        "outputId": "18e1ca5c-bb33-42f0-9de4-86d381455616"
      },
      "source": [
        "# código para responder a pergunta\n",
        "\n",
        "populacao_sul = brasil_df.query(\"estado == 'SANTA CATARINA' | estado == 'PARANÁ' | estado == 'RIO GRANDE DO SUL'\")['populacao'].sum()\n",
        "print(f\"População da região Sul: {populacao_sul}\")\n"
      ],
      "execution_count": 44,
      "outputs": [
        {
          "output_type": "stream",
          "name": "stdout",
          "text": [
            "População da região Sul: 27719118.0\n"
          ]
        }
      ]
    },
    {
      "cell_type": "markdown",
      "metadata": {
        "id": "9qOaKRS9fFu8"
      },
      "source": [
        " - Qual é o PIB per capito médio das cidades do Mato Grosso do Sul?"
      ]
    },
    {
      "cell_type": "code",
      "metadata": {
        "id": "gX8DVSfFfFu9",
        "colab": {
          "base_uri": "https://localhost:8080/"
        },
        "outputId": "a1f18aba-4e8c-4d86-9fda-ab8a1cd6696d"
      },
      "source": [
        "# código para responder a pergunta\n",
        "\n",
        "pib_percapita_medio_ms = brasil_df.query(\"estado == 'MATO GROSSO DO SUL'\")['pib_percapita'].mean()\n",
        "print(f\"PIB per capita médio de Mato Grosso do Sul: {pib_percapita_medio_ms}\")"
      ],
      "execution_count": 41,
      "outputs": [
        {
          "output_type": "stream",
          "name": "stdout",
          "text": [
            "PIB per capita médio de Mato Grosso do Sul: 14458.896859975644\n"
          ]
        }
      ]
    },
    {
      "cell_type": "markdown",
      "metadata": {
        "id": "lvf-VqaffS2D"
      },
      "source": [
        " - Qual é a população do Brasil?"
      ]
    },
    {
      "cell_type": "code",
      "metadata": {
        "id": "_nBsY6EcfS2E",
        "colab": {
          "base_uri": "https://localhost:8080/"
        },
        "outputId": "6f9fea05-5b2b-436f-f948-4e0daec31086"
      },
      "source": [
        "# código para responder a pergunta\n",
        "\n",
        "populacao_brasil = brasil_df['populacao'].sum()\n",
        "print(f\"População do Brasil: {populacao_brasil}\")"
      ],
      "execution_count": 42,
      "outputs": [
        {
          "output_type": "stream",
          "name": "stdout",
          "text": [
            "População do Brasil: 191176146.0\n"
          ]
        }
      ]
    },
    {
      "cell_type": "markdown",
      "metadata": {
        "id": "hnTSARXpipkP"
      },
      "source": [
        "### **2.3. Visualização**"
      ]
    },
    {
      "cell_type": "markdown",
      "metadata": {
        "id": "7coMkY8xixFO"
      },
      "source": [
        "Utilize o dataframe `brasil_df` para gerar as seguintes visualizações."
      ]
    },
    {
      "cell_type": "markdown",
      "metadata": {
        "id": "SgvPvh4Vjctx"
      },
      "source": [
        " - Gere um gráfico de barras com as 10 cidades menos populosas do Brasil."
      ]
    },
    {
      "cell_type": "code",
      "metadata": {
        "id": "V8eM0uEUjcty",
        "colab": {
          "base_uri": "https://localhost:8080/",
          "height": 564
        },
        "outputId": "05714ff0-2abe-44ea-a8dc-d9103d1e7c35"
      },
      "source": [
        "# código para gerar a visualização\n",
        "\n",
        "import matplotlib.pyplot as plt\n",
        "import numpy as np\n",
        "\n",
        "dez_cidades_menos_populosas = brasil_df.sort_values('populacao').head(10)\n",
        "\n",
        "# Gera cores aleatórias\n",
        "cores = np.random.rand(10, 3)\n",
        "\n",
        "plt.figure(figsize=(10, 6))\n",
        "plt.barh(dez_cidades_menos_populosas['cidade'], dez_cidades_menos_populosas['populacao'], color=cores)\n",
        "plt.xlabel('População')\n",
        "plt.title('10 cidades menos populosas do Brasil')\n",
        "plt.show()\n"
      ],
      "execution_count": 47,
      "outputs": [
        {
          "output_type": "display_data",
          "data": {
            "text/plain": [
              "<Figure size 1000x600 with 1 Axes>"
            ],
            "image/png": "[encoded data removed]"
          },
          "metadata": {}
        }
      ]
    },
    {
      "cell_type": "markdown",
      "metadata": {
        "id": "gsa3SrTjjrGV"
      },
      "source": [
        " - Gere um gráfico de pizza com a proporção da população do Brasil por região."
      ]
    },
    {
      "cell_type": "code",
      "metadata": {
        "id": "1dvqIAEHjrGV",
        "colab": {
          "base_uri": "https://localhost:8080/",
          "height": 521
        },
        "outputId": "9520875c-cd2d-4c45-dc31-e116d73b059b"
      },
      "source": [
        "# código para gerar a visualização\n",
        "\n",
        "populacao_por_regiao = brasil_df.groupby('regiao')['populacao'].sum()\n",
        "\n",
        "plt.figure(figsize=(10, 6))\n",
        "plt.pie(populacao_por_regiao, labels=populacao_por_regiao.index, autopct='%1.1f%%', startangle=140)\n",
        "plt.axis('equal')  # Para garantir que temos um gráfico de pizza circular\n",
        "plt.title('Proporção da população do Brasil por região')\n",
        "plt.show()"
      ],
      "execution_count": 46,
      "outputs": [
        {
          "output_type": "display_data",
          "data": {
            "text/plain": [
              "<Figure size 1000x600 with 1 Axes>"
            ],
            "image/png": "[encoded data removed]"
          },
          "metadata": {}
        }
      ]
    }
  ]
}